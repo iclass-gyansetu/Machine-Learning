{
 "cells": [
  {
   "cell_type": "code",
   "execution_count": 1,
   "metadata": {},
   "outputs": [],
   "source": [
    "#Principal component Analysis"
   ]
  },
  {
   "cell_type": "code",
   "execution_count": 2,
   "metadata": {},
   "outputs": [],
   "source": [
    "import pandas as pd\n",
    "import numpy as np\n",
    "import matplotlib.pyplot as plt\n",
    "from sklearn.preprocessing import StandardScaler\n",
    "from sklearn.model_selection import train_test_split"
   ]
  },
  {
   "cell_type": "code",
   "execution_count": 3,
   "metadata": {},
   "outputs": [],
   "source": [
    "df_wine = pd.read_csv('https://archive.ics.uci.edu/ml/machine-learning-databases/wine/wine.data', header = None)"
   ]
  },
  {
   "cell_type": "code",
   "execution_count": 4,
   "metadata": {},
   "outputs": [
    {
     "data": {
      "text/html": [
       "<div>\n",
       "<style scoped>\n",
       "    .dataframe tbody tr th:only-of-type {\n",
       "        vertical-align: middle;\n",
       "    }\n",
       "\n",
       "    .dataframe tbody tr th {\n",
       "        vertical-align: top;\n",
       "    }\n",
       "\n",
       "    .dataframe thead th {\n",
       "        text-align: right;\n",
       "    }\n",
       "</style>\n",
       "<table border=\"1\" class=\"dataframe\">\n",
       "  <thead>\n",
       "    <tr style=\"text-align: right;\">\n",
       "      <th></th>\n",
       "      <th>0</th>\n",
       "      <th>1</th>\n",
       "      <th>2</th>\n",
       "      <th>3</th>\n",
       "      <th>4</th>\n",
       "      <th>5</th>\n",
       "      <th>6</th>\n",
       "      <th>7</th>\n",
       "      <th>8</th>\n",
       "      <th>9</th>\n",
       "      <th>10</th>\n",
       "      <th>11</th>\n",
       "      <th>12</th>\n",
       "      <th>13</th>\n",
       "    </tr>\n",
       "  </thead>\n",
       "  <tbody>\n",
       "    <tr>\n",
       "      <th>0</th>\n",
       "      <td>1</td>\n",
       "      <td>14.23</td>\n",
       "      <td>1.71</td>\n",
       "      <td>2.43</td>\n",
       "      <td>15.6</td>\n",
       "      <td>127</td>\n",
       "      <td>2.80</td>\n",
       "      <td>3.06</td>\n",
       "      <td>0.28</td>\n",
       "      <td>2.29</td>\n",
       "      <td>5.64</td>\n",
       "      <td>1.04</td>\n",
       "      <td>3.92</td>\n",
       "      <td>1065</td>\n",
       "    </tr>\n",
       "    <tr>\n",
       "      <th>1</th>\n",
       "      <td>1</td>\n",
       "      <td>13.20</td>\n",
       "      <td>1.78</td>\n",
       "      <td>2.14</td>\n",
       "      <td>11.2</td>\n",
       "      <td>100</td>\n",
       "      <td>2.65</td>\n",
       "      <td>2.76</td>\n",
       "      <td>0.26</td>\n",
       "      <td>1.28</td>\n",
       "      <td>4.38</td>\n",
       "      <td>1.05</td>\n",
       "      <td>3.40</td>\n",
       "      <td>1050</td>\n",
       "    </tr>\n",
       "    <tr>\n",
       "      <th>2</th>\n",
       "      <td>1</td>\n",
       "      <td>13.16</td>\n",
       "      <td>2.36</td>\n",
       "      <td>2.67</td>\n",
       "      <td>18.6</td>\n",
       "      <td>101</td>\n",
       "      <td>2.80</td>\n",
       "      <td>3.24</td>\n",
       "      <td>0.30</td>\n",
       "      <td>2.81</td>\n",
       "      <td>5.68</td>\n",
       "      <td>1.03</td>\n",
       "      <td>3.17</td>\n",
       "      <td>1185</td>\n",
       "    </tr>\n",
       "    <tr>\n",
       "      <th>3</th>\n",
       "      <td>1</td>\n",
       "      <td>14.37</td>\n",
       "      <td>1.95</td>\n",
       "      <td>2.50</td>\n",
       "      <td>16.8</td>\n",
       "      <td>113</td>\n",
       "      <td>3.85</td>\n",
       "      <td>3.49</td>\n",
       "      <td>0.24</td>\n",
       "      <td>2.18</td>\n",
       "      <td>7.80</td>\n",
       "      <td>0.86</td>\n",
       "      <td>3.45</td>\n",
       "      <td>1480</td>\n",
       "    </tr>\n",
       "    <tr>\n",
       "      <th>4</th>\n",
       "      <td>1</td>\n",
       "      <td>13.24</td>\n",
       "      <td>2.59</td>\n",
       "      <td>2.87</td>\n",
       "      <td>21.0</td>\n",
       "      <td>118</td>\n",
       "      <td>2.80</td>\n",
       "      <td>2.69</td>\n",
       "      <td>0.39</td>\n",
       "      <td>1.82</td>\n",
       "      <td>4.32</td>\n",
       "      <td>1.04</td>\n",
       "      <td>2.93</td>\n",
       "      <td>735</td>\n",
       "    </tr>\n",
       "  </tbody>\n",
       "</table>\n",
       "</div>"
      ],
      "text/plain": [
       "   0      1     2     3     4    5     6     7     8     9     10    11    12  \\\n",
       "0   1  14.23  1.71  2.43  15.6  127  2.80  3.06  0.28  2.29  5.64  1.04  3.92   \n",
       "1   1  13.20  1.78  2.14  11.2  100  2.65  2.76  0.26  1.28  4.38  1.05  3.40   \n",
       "2   1  13.16  2.36  2.67  18.6  101  2.80  3.24  0.30  2.81  5.68  1.03  3.17   \n",
       "3   1  14.37  1.95  2.50  16.8  113  3.85  3.49  0.24  2.18  7.80  0.86  3.45   \n",
       "4   1  13.24  2.59  2.87  21.0  118  2.80  2.69  0.39  1.82  4.32  1.04  2.93   \n",
       "\n",
       "     13  \n",
       "0  1065  \n",
       "1  1050  \n",
       "2  1185  \n",
       "3  1480  \n",
       "4   735  "
      ]
     },
     "execution_count": 4,
     "metadata": {},
     "output_type": "execute_result"
    }
   ],
   "source": [
    "df_wine.head()"
   ]
  },
  {
   "cell_type": "code",
   "execution_count": 5,
   "metadata": {},
   "outputs": [],
   "source": [
    "X, y = df_wine.iloc[:, 1:].values, df_wine.iloc[:,0].values"
   ]
  },
  {
   "cell_type": "code",
   "execution_count": 6,
   "metadata": {},
   "outputs": [],
   "source": [
    "#iloc/loc are to retrive rows"
   ]
  },
  {
   "cell_type": "code",
   "execution_count": 7,
   "metadata": {},
   "outputs": [
    {
     "name": "stdout",
     "output_type": "stream",
     "text": [
      "[[1.362e+01 4.950e+00 2.350e+00 ... 9.100e-01 2.050e+00 5.500e+02]\n",
      " [1.376e+01 1.530e+00 2.700e+00 ... 1.250e+00 3.000e+00 1.235e+03]\n",
      " [1.373e+01 1.500e+00 2.700e+00 ... 1.190e+00 2.710e+00 1.285e+03]\n",
      " ...\n",
      " [1.388e+01 5.040e+00 2.230e+00 ... 5.800e-01 1.330e+00 4.150e+02]\n",
      " [1.196e+01 1.090e+00 2.300e+00 ... 9.900e-01 3.130e+00 8.860e+02]\n",
      " [1.270e+01 3.870e+00 2.400e+00 ... 1.190e+00 3.130e+00 4.630e+02]]\n"
     ]
    }
   ],
   "source": [
    "X_train, X_test, y_train, y_test = train_test_split(X, y, test_size=0.3, stratify=y, random_state=0)\n",
    "\n",
    "print(X_train)"
   ]
  },
  {
   "cell_type": "code",
   "execution_count": 8,
   "metadata": {},
   "outputs": [
    {
     "name": "stdout",
     "output_type": "stream",
     "text": [
      "[3 1 1 1 3 2 2 3 2 2 2 1 2 3 1 3 2 1 3 3 2 1 2 2 2 2 3 1 2 2 1 1 3 1 2 1 1\n",
      " 2 3 3 1 3 3 3 1 2 3 3 2 3 2 2 2 1 2 2 3 3 2 1 1 2 3 3 2 1 2 2 2 1 1 1 1 1\n",
      " 3 1 2 3 2 2 3 1 2 1 2 2 3 2 1 1 1 3 2 1 1 2 2 3 3 2 1 1 2 2 3 1 3 1 2 2 2\n",
      " 2 1 3 1 1 1 1 2 2 3 3 2 2]\n"
     ]
    }
   ],
   "source": [
    "print(y_train)"
   ]
  },
  {
   "cell_type": "code",
   "execution_count": 9,
   "metadata": {},
   "outputs": [],
   "source": [
    "sc = StandardScaler()"
   ]
  },
  {
   "cell_type": "code",
   "execution_count": 10,
   "metadata": {},
   "outputs": [],
   "source": [
    "X_train_std = sc.fit_transform(X_train)"
   ]
  },
  {
   "cell_type": "code",
   "execution_count": 39,
   "metadata": {},
   "outputs": [
    {
     "name": "stdout",
     "output_type": "stream",
     "text": [
      "[[ 8.94437367e-01 -3.88117877e-01  1.10073064e+00 -8.12017114e-01\n",
      "   1.13201117e+00  1.09807851e+00  7.12041017e-01  1.81013423e-01\n",
      "   6.62804643e-02  5.12859235e-01  7.96297849e-01  4.48295020e-01\n",
      "   1.90593792e+00]\n",
      " [-1.04879931e+00 -7.72993966e-01  5.41190056e-01 -2.40938809e-01\n",
      "   3.49414498e-01 -7.07219221e-01 -3.08121293e-01  6.76138376e-01\n",
      "  -1.03520519e+00 -9.06567274e-01  2.24570604e+00 -5.61881713e-01\n",
      "  -1.22874035e+00]\n",
      " [ 1.64744158e+00 -4.13776283e-01  2.42768413e-01 -1.56343594e+00\n",
      "  -2.19746720e-01  2.84881333e-01  4.47191186e-01 -5.61674005e-01\n",
      "   5.74658458e-01  6.79643589e-02  2.98063782e-01  1.38631627e+00\n",
      "   1.64471473e+00]\n",
      " [ 2.02159300e-01 -4.90751501e-01 -9.13615453e-01 -2.58536553e+00\n",
      "   6.48338887e-02  5.28840485e-01  6.82613258e-01 -8.91757306e-01\n",
      "  -6.11556861e-01 -3.00662824e-01  4.33945800e-01  1.12655654e+00\n",
      "   9.07143373e-01]\n",
      " [-8.05894728e-01 -1.09800044e+00 -1.06282627e+00 -3.91222574e-01\n",
      "  -7.88907938e-01  1.94380357e+00  1.65372930e+00 -1.05679896e+00\n",
      "   5.23820659e-01 -2.49817695e-01  3.88651794e-01  2.17397481e-01\n",
      "  -2.91410081e-01]\n",
      " [-7.08732894e-01  5.78348747e-01  9.51519815e-01  2.16360142e+00\n",
      "  -1.48601568e-01 -6.90955277e-01 -1.45580389e+00  2.16151323e+00\n",
      "  -8.48799925e-01  1.02131052e+00 -1.28722643e+00 -1.28343652e+00\n",
      "   3.84696996e-01]\n",
      " [-1.44959188e+00  4.58609519e-01 -5.77891105e-01 -5.41506338e-01\n",
      "   9.18575715e-01 -9.83706260e-01 -7.29919172e-01  5.11096725e-01\n",
      "  -1.17077265e+00 -1.03368010e+00  2.62997455e-02 -1.43379923e-01\n",
      "  -7.83124318e-01]\n",
      " [ 5.05790031e-01  1.15138648e+00  8.02308994e-01  9.61331305e-01\n",
      "   8.47430563e-01 -1.01623415e+00 -1.12228929e+00  5.11096725e-01\n",
      "  -3.06530065e-01  2.36870643e+00 -4.71934321e-01 -1.52876516e+00\n",
      "  -1.83847591e-01]\n",
      " [ 8.58001680e-01 -5.84832323e-01 -5.03285694e-01 -1.02241438e+00\n",
      "   1.34544663e+00  4.47520768e-01  8.19942800e-01 -1.30436143e+00\n",
      "  -3.53951345e-02  3.22190002e-01 -1.54876279e-01  8.37934618e-01\n",
      "   9.37875512e-01]\n",
      " [ 3.47902051e-01  7.57957588e-01 -1.83505244e-02  5.10480012e-01\n",
      "  -5.04327329e-01 -6.42163447e-01 -1.27923734e+00  6.76138376e-01\n",
      "  -6.62394660e-01  1.41112317e+00 -1.83075450e+00 -1.44217858e+00\n",
      "  -3.22142221e-01]\n",
      " [ 8.70146909e-01 -5.33515511e-01  9.35575917e-02 -1.14264140e+00\n",
      "  -7.17762786e-01  4.47520768e-01  6.82613258e-01 -6.44194830e-01\n",
      "   2.86577595e-01  2.16262651e-01  8.86885861e-01  4.05001732e-01\n",
      "   1.73691115e+00]\n",
      " [-9.03056562e-01 -8.07205174e-01 -1.51045874e+00 -1.14264140e+00\n",
      "  -1.00234339e+00  3.66201050e-01  4.27572680e-01 -6.44194830e-01\n",
      "   2.18793862e-01 -9.27752744e-01  1.24923791e+00  1.74104193e-01\n",
      "  -1.00439572e+00]\n",
      " [ 9.06582597e-01  3.47423093e-01 -3.16772167e-01  6.60763777e-01\n",
      "  -6.46617634e-01 -1.58547217e+00 -1.35771136e+00  3.46055074e-01\n",
      "  -1.03520519e+00  1.90262608e+00 -1.15134441e+00 -1.35559200e+00\n",
      "  -4.29704710e-01]\n",
      " [ 1.00374443e+00 -8.58521986e-01 -4.28680283e-01 -1.14264140e+00\n",
      "  -7.74564157e-02  1.06555062e+00  1.06517412e+00 -1.22184061e+00\n",
      "   3.54361327e-01  9.02671888e-01  2.52769776e-01  1.34302298e+00\n",
      "   8.91777303e-01]\n",
      " [-8.18039958e-01  1.26257291e+00 -1.83505244e-02  3.60196248e-01\n",
      "  -7.88907938e-01 -4.03975371e-02 -1.12228929e+00  1.08874250e+00\n",
      "  -1.01825926e+00  1.08486693e+00 -1.78546050e+00 -1.49990297e+00\n",
      "  -7.21660038e-01]\n",
      " [ 9.28522366e-02 -3.88117877e-01  1.36184957e+00  1.71275013e+00\n",
      "   1.20315632e+00 -2.03036972e-01 -7.69156184e-01 -8.91757306e-01\n",
      "  -1.37070733e-01  8.51826759e-01 -1.55899047e+00 -1.86068037e+00\n",
      "  -1.01361537e+00]\n",
      " [ 5.66516178e-01 -4.65093095e-01  8.39611699e-01  5.96287194e-02\n",
      "  -2.19746720e-01  3.33673163e-01  5.35474463e-01 -7.26715656e-01\n",
      "   3.23885980e-02 -6.65052913e-01  7.51003843e-01  1.73266258e+00\n",
      "   2.77134506e-01]\n",
      " [ 1.44097268e+00  1.39941774e+00  4.66584645e-01 -1.98423048e+00\n",
      "   2.05689815e+00  1.09807851e+00  9.57272342e-01 -1.38688226e+00\n",
      "   7.44117790e-01  4.40794804e-03 -2.90758297e-01  1.31416079e+00\n",
      "   1.59113176e-02]\n",
      " [-1.98633266e-01  1.92969146e+00  3.54676529e-01  5.10480012e-01\n",
      "  -9.31198243e-01 -1.01623415e+00 -1.38713912e+00  8.41180026e-01\n",
      "  -1.32328605e+00  1.08486693e+00 -1.87604851e+00 -1.09583227e+00\n",
      "  -3.98972570e-01]\n",
      " [-6.84442436e-01 -7.13124352e-01 -6.89799221e-01 -2.40938809e-01\n",
      "   4.47583333e+00  2.84881333e-01  2.01959862e-01 -3.96632354e-01\n",
      "   2.77762977e+00 -1.05486557e+00  9.32179867e-01  1.53621347e-02\n",
      "   5.59870193e-01]\n",
      " [ 1.62315112e+00 -3.45353867e-01  4.29281940e-01 -9.02187372e-01\n",
      "   9.89720868e-01  2.48051371e+00  1.39868873e+00 -1.05679896e+00\n",
      "   9.13577121e-01  1.14842334e+00 -4.26640315e-01  1.19871202e+00\n",
      "   2.22862539e+00]\n",
      " [ 8.45856450e-01  1.71587141e+00 -4.65982989e-01  8.11047541e-01\n",
      "  -7.88907938e-01 -1.69931977e+00 -1.56370568e+00  1.25378415e+00\n",
      "  -8.31853992e-01  6.48446244e-01 -7.88992364e-01 -1.25457433e+00\n",
      "  -7.21660038e-01]\n",
      " [-4.30959748e-03 -1.24339808e+00 -2.51763178e+00 -1.14264140e+00\n",
      "  -9.31198243e-01 -6.09635560e-01 -3.34622098e-02 -1.05679896e+00\n",
      "  -3.06530065e-01 -2.07446755e-01  1.06806189e+00 -2.01104308e-01\n",
      "  -1.11503143e+00]\n",
      " [-7.45168582e-01 -6.36149134e-01 -7.27101926e-01  8.11047541e-01\n",
      "   6.33995107e-01 -5.28315842e-01  2.53933081e-02 -2.31590703e-01\n",
      "  -5.23410677e-02 -1.28366864e+00  4.79239806e-01  4.91588309e-01\n",
      "  -1.25947249e+00]\n",
      " [-1.54675371e+00  2.79000678e-01  1.99599557e+00  5.96287194e-02\n",
      "   2.78269345e-01 -9.34914430e-01 -3.34622098e-02  1.91395076e+00\n",
      "  -1.00131332e+00 -5.46414279e-01  1.24923791e+00 -1.72242116e-01\n",
      "  -4.54290422e-01]\n",
      " [-7.33023353e-01 -7.04571550e-01 -3.54074873e-01  5.10480012e-01\n",
      "  -9.31198243e-01  6.75215977e-01  1.06517412e+00  1.81013423e-01\n",
      "   2.18793862e-01 -4.87094962e-01 -1.19663842e+00  3.18415155e-01\n",
      "  -1.23795999e+00]\n",
      " [ 1.45311791e+00 -5.50621115e-01  1.68163002e-01 -1.26286841e+00\n",
      "   1.98575300e+00  7.72799638e-01  9.76890848e-01 -7.26715656e-01\n",
      "   1.09998239e+00  2.33211027e-01  3.88651794e-01  1.87697354e+00\n",
      "   9.53241582e-01]\n",
      " [ 3.96482968e-01  1.76367054e-01 -1.30258641e-01  5.96287194e-02\n",
      "  -7.17762786e-01 -1.50415245e+00 -1.53427792e+00  1.59717727e-02\n",
      "  -1.69609658e+00  2.16262651e-01 -1.15134441e+00 -2.15535404e-01\n",
      "   7.73755972e-02]\n",
      " [ 5.66516178e-01  6.55323965e-01  8.76914404e-01  1.26189883e+00\n",
      "   1.70117239e+00 -1.50415245e+00 -4.84687847e-01 -1.22184061e+00\n",
      "  -6.62394660e-01  1.48739087e+00 -1.64957848e+00 -1.90397366e+00\n",
      "  -7.83124318e-01]\n",
      " [-8.05894728e-01 -1.04668363e+00 -8.39010042e-01 -2.40938809e-01\n",
      "  -8.60053090e-01  1.91127568e+00  1.01612786e+00 -1.46940308e+00\n",
      "   3.88253194e-01 -2.71003166e-01  1.20394390e+00  3.61708443e-01\n",
      "  -1.02898144e+00]\n",
      " [-1.25761890e-01  1.23691450e+00  9.88822520e-01 -3.61165821e-01\n",
      "   2.07124193e-01  1.38505841e-01  3.39289404e-01 -9.74278132e-01\n",
      "   5.74658458e-01 -2.49817695e-01  3.43357788e-01  1.29972970e+00\n",
      "   4.66434574e-02]\n",
      " [ 1.65723612e-01  2.02025460e-01 -5.56532298e-02  5.96287194e-02\n",
      "   1.48773693e+00 -1.09755386e+00 -1.35771136e+00  1.33630498e+00\n",
      "  -3.06530065e-01  1.78398745e+00 -1.60428447e+00 -1.44217858e+00\n",
      "   2.61768436e-01]\n",
      " [ 1.42882745e+00  1.44218175e+00  2.05465708e-01 -2.70995562e-01\n",
      "   8.47430563e-01  8.54119356e-01  5.74711475e-01 -5.61674005e-01\n",
      "  -6.62394660e-01  6.37272648e-02 -3.81346309e-01  1.02553887e+00\n",
      "   9.99339792e-01]\n",
      " [-1.71678692e+00 -3.11142659e-01 -3.91377578e-01 -5.41506338e-01\n",
      "  -7.74564157e-02  1.13060640e+00  1.92150609e-01 -1.63444473e+00\n",
      "  -4.92935329e-01 -7.79454452e-01  9.32179867e-01  4.91588309e-01\n",
      "  -1.25947249e+00]\n",
      " [-1.15810638e+00 -4.47987491e-01 -2.42166757e-01 -3.91222574e-01\n",
      "  -1.28692400e+00 -1.17887358e+00 -5.53352618e-01  1.25378415e+00\n",
      "  -1.50326826e-03 -1.13960745e+00  5.69827818e-01 -5.04157328e-01\n",
      "  -8.44588598e-01]\n",
      " [ 1.05232535e+00 -5.76279521e-01 -9.88220864e-01 -1.14264140e+00\n",
      "   1.35979041e-01  1.26071794e+00  1.30059620e+00 -1.30436143e+00\n",
      "   8.45793388e-01  4.28117354e-01 -2.00170285e-01  1.02553887e+00\n",
      "   7.07384464e-01]\n",
      " [-9.03056562e-01 -6.36149134e-01 -6.52496516e-01  1.79855731e-01\n",
      "   2.78269345e-01 -1.99207076e+00 -1.02419676e+00  1.59717727e-02\n",
      "  -3.06530065e-01 -8.64196333e-01 -2.18287887e-01 -1.15355666e+00\n",
      "   3.53964856e-01]\n",
      " [ 4.42713195e-02 -7.30229956e-01 -1.06282627e+00 -1.29292516e+00\n",
      "  -7.74564157e-02  1.22241898e-01  5.64902222e-01 -7.26715656e-01\n",
      "  -4.59043463e-01 -5.88785220e-01  1.02276788e+00  1.01948712e-01\n",
      "   8.14946953e-01]\n",
      " [ 1.99808610e-02 -4.99304303e-01 -1.06282627e+00 -8.42073866e-01\n",
      "   5.62849954e-01  1.09807851e+00  9.18035330e-01 -7.26715656e-01\n",
      "   6.59388124e-01 -2.10146163e-02 -3.36052303e-01  1.05440106e+00\n",
      "   4.00063065e-01]\n",
      " [-4.05102163e-01  1.02309445e+00 -9.29559351e-02  5.10480012e-01\n",
      "   4.91704802e-01 -1.01623415e+00 -8.47630207e-01 -1.63444473e+00\n",
      "  -1.35717792e+00 -3.79629925e-02 -7.88992364e-01 -1.91840476e+00\n",
      "  -4.75802920e-01]\n",
      " [-9.51637479e-01  1.30533692e+00 -6.89799221e-01 -3.91222574e-01\n",
      "   9.18575715e-01 -1.53668034e+00 -1.25961883e+00 -6.44194830e-01\n",
      "  -8.48799925e-01  1.32214420e+00 -1.37781444e+00 -8.93796926e-01\n",
      "   3.07866646e-01]\n",
      " [-1.25526821e+00  9.20460826e-01 -1.43585333e+00 -2.40938809e-01\n",
      "  -8.60053090e-01 -5.28315842e-01 -4.16023076e-01  1.59717727e-02\n",
      "   3.88253194e-01 -1.61416198e+00 -1.09582273e-01  6.21468175e-01\n",
      "  -5.86438623e-01]\n",
      " [-5.26554455e-01 -8.67074788e-01 -1.80888038e+00 -3.91222574e-01\n",
      "  -7.88907938e-01 -1.42283273e+00 -6.90682160e-01 -6.44194830e-01\n",
      "  -4.92935329e-01 -1.11842198e+00  3.88651794e-01  2.17397481e-01\n",
      "  -5.92585051e-01]\n",
      " [-1.15810638e+00 -2.34167441e-01 -2.55493449e+00 -6.91790102e-01\n",
      "  -1.48601568e-01 -1.54245142e-01  1.03867332e-01 -8.91757306e-01\n",
      "  -4.08205663e-01 -7.58268982e-01  1.43041393e+00  4.91588309e-01\n",
      "  -1.37749382e-01]\n",
      " [ 7.36549387e-01  6.38218361e-01  6.53098172e-01 -1.38309542e+00\n",
      "   1.20315632e+00  6.10160203e-01  9.47463089e-01 -1.63444473e+00\n",
      "   3.23885980e-02  4.40794804e-03  2.62997455e-02  1.06883216e+00\n",
      "   2.77134506e-01]\n",
      " [-7.45168582e-01  1.67814252e-01 -4.28680283e-01  6.60763777e-01\n",
      "  -6.46617634e-01 -1.04876203e+00 -2.19838016e-01  2.40907571e+00\n",
      "  -3.74313797e-01 -1.01249463e+00 -4.26640315e-01  9.82245580e-01\n",
      "  -1.35166890e+00]\n",
      " [-2.43335545e+00 -7.21677154e-01 -6.89799221e-01  5.10480012e-01\n",
      "  -1.00234339e+00  2.19825559e-01  1.03867332e-01  1.25378415e+00\n",
      "   6.25496258e-01 -1.35146215e+00  3.42335020e+00  3.61708443e-01\n",
      "  -1.06893322e+00]\n",
      " [-1.25761890e-01  3.90187103e-01  1.17533605e+00  3.60196248e-01\n",
      "  -2.19746720e-01 -1.27645724e+00 -1.53427792e+00  1.33630498e+00\n",
      "  -1.50969132e+00 -2.07446755e-01 -8.34286370e-01 -4.46432944e-01\n",
      "  -4.75802920e-01]\n",
      " [-1.06094454e+00 -6.36149134e-01 -2.79469462e-01  9.01217799e-01\n",
      "  -6.46617634e-01 -8.86122599e-01 -3.66976811e-01  5.11096725e-01\n",
      "  -1.37070733e-01 -1.11842198e+00  1.70217797e+00 -5.18588425e-01\n",
      "  -7.98490388e-01]\n",
      " [-1.86488036e-01  5.44137539e-01  5.62548863e-02  5.96287194e-02\n",
      "   3.49414498e-01 -1.66679189e+00 -8.28011701e-01 -1.05679896e+00\n",
      "  -1.37412385e+00  1.31520770e-01 -9.70168388e-01 -1.73080050e+00\n",
      "  -6.90927899e-01]\n",
      " [-8.54475645e-01 -1.07234204e+00 -3.91377578e-01 -1.14264140e+00\n",
      "   1.35979041e-01 -4.46996125e-01 -9.55531990e-01  2.16151323e+00\n",
      "  -2.08585304e+00 -7.70980264e-01  1.33982592e+00 -1.37002310e+00\n",
      "  -2.29945801e-01]\n",
      " [-8.05894728e-01 -1.20918687e+00 -3.82322647e+00 -2.76570605e+00\n",
      "  -7.88907938e-01 -5.60843729e-01 -1.46561315e+00 -7.26715656e-01\n",
      "  -2.06890711e+00 -1.33027668e+00  4.33945800e-01 -1.15355666e+00\n",
      "  -7.21660038e-01]\n",
      " [ 2.99321134e-01 -6.10490728e-01  1.69757392e+00 -1.29292516e+00\n",
      "   7.76285411e-01  4.47520768e-01  6.04139234e-01 -2.31590703e-01\n",
      "  -4.75989396e-01 -2.07446755e-01  6.15121824e-01  2.31828578e-01\n",
      "   3.84696996e-01]\n",
      " [-2.22923724e-01 -6.44701936e-01  5.03887351e-01 -6.01619844e-01\n",
      "  -2.90891872e-01  2.52353446e-01  3.00052392e-01 -8.91757306e-01\n",
      "  -3.06530065e-01 -4.91332056e-01  6.15121824e-01  1.45847175e+00\n",
      "   7.99580883e-01]]\n"
     ]
    }
   ],
   "source": [
    "X_test_std = sc.transform(X_test)\n",
    "print(X_test_std)"
   ]
  },
  {
   "cell_type": "code",
   "execution_count": 38,
   "metadata": {},
   "outputs": [
    {
     "data": {
      "image/png": "[encoded data removed]",
      "text/plain": [
       "<Figure size 432x288 with 1 Axes>"
      ]
     },
     "metadata": {
      "needs_background": "light"
     },
     "output_type": "display_data"
    }
   ],
   "source": [
    "colors = ['r', 'b', 'g']\n",
    "markers = ['s', 'x', 'o']\n",
    "\n",
    "for l, c, m in zip(np.unique(y_train), colors, markers):\n",
    "    plt.scatter(X_train_std[y_train == l, 0], X_train_std[y_train == l, 1], c = c, label = l, marker = m)"
   ]
  },
  {
   "cell_type": "code",
   "execution_count": 13,
   "metadata": {},
   "outputs": [],
   "source": [
    "cov_mat = np.cov(X_train_std.T)"
   ]
  },
  {
   "cell_type": "code",
   "execution_count": 14,
   "metadata": {},
   "outputs": [],
   "source": [
    "#cov :- measure of the relationship between two random variables. The metric evaluates how much – to what extent – the variables change together\n",
    "    #Positive covariance: Indicates that two variables tend to move in the same direction.\n",
    "    #Negative covariance: Reveals that two variables tend to move in inverse directions."
   ]
  },
  {
   "cell_type": "code",
   "execution_count": 15,
   "metadata": {},
   "outputs": [],
   "source": [
    "eigen_vals, eigen_vecs = np.linalg.eig(cov_mat)"
   ]
  },
  {
   "cell_type": "code",
   "execution_count": 16,
   "metadata": {},
   "outputs": [],
   "source": [
    "#we performed the eigen decomposition, which yielded a vector (eigen_vals) consisting of 13 eigenvalues and the corresponding eigenvectors stored as columns in a 13 x 13-dimensional matrix (eigen_vecs)."
   ]
  },
  {
   "cell_type": "code",
   "execution_count": 17,
   "metadata": {},
   "outputs": [],
   "source": [
    "tot = sum(eigen_vals)"
   ]
  },
  {
   "cell_type": "code",
   "execution_count": 18,
   "metadata": {},
   "outputs": [
    {
     "name": "stdout",
     "output_type": "stream",
     "text": [
      "[0.3695146859960766, 0.18434927059884168, 0.11815159094596975, 0.07334251763785461, 0.06422107821731675, 0.05051724484907655, 0.039546538912414414, 0.026439183169219973, 0.023893192591852925, 0.016296137737251006, 0.013800211221948426, 0.011722262443085971, 0.008206085679091394]\n"
     ]
    }
   ],
   "source": [
    "var_exp = [(i/tot) for i in sorted(eigen_vals, reverse=True)]\n",
    "print(var_exp)"
   ]
  },
  {
   "cell_type": "code",
   "execution_count": 19,
   "metadata": {},
   "outputs": [
    {
     "name": "stdout",
     "output_type": "stream",
     "text": [
      "[0.36951469 0.55386396 0.67201555 0.74535807 0.80957914 0.86009639\n",
      " 0.89964293 0.92608211 0.9499753  0.96627144 0.98007165 0.99179391\n",
      " 1.        ]\n"
     ]
    }
   ],
   "source": [
    "cum_var_exp = np.cumsum(var_exp)\n",
    "print(cum_var_exp)"
   ]
  },
  {
   "cell_type": "code",
   "execution_count": 20,
   "metadata": {},
   "outputs": [],
   "source": [
    "#we calculated the cummulative sum of explained variances\n",
    "#The total variance is the sum of variances of all individual principal components.\n",
    "#The fraction of variance explained by a principal component is the ratio between the variance of that principal component and the total variance."
   ]
  },
  {
   "cell_type": "code",
   "execution_count": 21,
   "metadata": {},
   "outputs": [
    {
     "data": {
      "text/plain": [
       "<BarContainer object of 13 artists>"
      ]
     },
     "execution_count": 21,
     "metadata": {},
     "output_type": "execute_result"
    },
    {
     "data": {
      "image/png": "[encoded data removed]",
      "text/plain": [
       "<Figure size 432x288 with 1 Axes>"
      ]
     },
     "metadata": {
      "needs_background": "light"
     },
     "output_type": "display_data"
    }
   ],
   "source": [
    "plt.bar(range(1, 14), var_exp, alpha=0.5, align='center', label='individual Explained variance')"
   ]
  },
  {
   "cell_type": "code",
   "execution_count": 22,
   "metadata": {},
   "outputs": [
    {
     "data": {
      "text/plain": [
       "[<matplotlib.lines.Line2D at 0x116cd8630>]"
      ]
     },
     "execution_count": 22,
     "metadata": {},
     "output_type": "execute_result"
    },
    {
     "data": {
      "image/png": "[encoded data removed]",
      "text/plain": [
       "<Figure size 432x288 with 1 Axes>"
      ]
     },
     "metadata": {
      "needs_background": "light"
     },
     "output_type": "display_data"
    }
   ],
   "source": [
    "plt.step(range(1, 14), cum_var_exp, where='mid', label='cumm. Explained Variance')"
   ]
  },
  {
   "cell_type": "code",
   "execution_count": 23,
   "metadata": {},
   "outputs": [
    {
     "data": {
      "text/plain": [
       "Text(0.5, 0, 'PC index')"
      ]
     },
     "execution_count": 23,
     "metadata": {},
     "output_type": "execute_result"
    },
    {
     "data": {
      "image/png": "[encoded data removed]",
      "text/plain": [
       "<Figure size 432x288 with 1 Axes>"
      ]
     },
     "metadata": {
      "needs_background": "light"
     },
     "output_type": "display_data"
    }
   ],
   "source": [
    "plt.ylabel('Explained variance ratio')\n",
    "plt.xlabel('PC index')"
   ]
  },
  {
   "cell_type": "code",
   "execution_count": 24,
   "metadata": {},
   "outputs": [
    {
     "name": "stdout",
     "output_type": "stream",
     "text": [
      "[(4.842745315655898, array([-0.13724218,  0.24724326, -0.02545159,  0.20694508, -0.15436582,\n",
      "       -0.39376952, -0.41735106,  0.30572896, -0.30668347,  0.07554066,\n",
      "       -0.32613263, -0.36861022, -0.29669651])), (2.4160245870352255, array([ 0.50303478,  0.16487119,  0.24456476, -0.11352904,  0.28974518,\n",
      "        0.05080104, -0.02287338,  0.09048885,  0.00835233,  0.54977581,\n",
      "       -0.20716433, -0.24902536,  0.38022942])), (1.5484582488203513, array([-0.13774873,  0.09615039,  0.67777567,  0.62504055,  0.19613548,\n",
      "        0.14031057,  0.11705386,  0.13121778,  0.0304309 , -0.07992997,\n",
      "        0.05305915,  0.13239103, -0.07065022])), (0.9612043774977367, array([-0.0032961 ,  0.56264669, -0.10897711,  0.0338187 , -0.36751107,\n",
      "        0.24024513,  0.1870533 , -0.02292622,  0.49626233,  0.10648294,\n",
      "       -0.36905375,  0.14201609, -0.16768217])), (0.8416616104578422, array([-0.29062523,  0.08953787, -0.16083499,  0.05158734,  0.67648707,\n",
      "       -0.11851114, -0.10710035, -0.50758161,  0.20163462,  0.00573607,\n",
      "       -0.27691422, -0.06662756, -0.12802904])), (0.6620634040383039, array([ 2.99096847e-01,  6.27036396e-01,  3.89128239e-04, -4.05836452e-02,\n",
      "        6.57772614e-02, -5.89776247e-02, -3.01103180e-02, -2.71728086e-01,\n",
      "       -4.39997519e-01, -4.11743459e-01,  1.41673377e-01,  1.75842384e-01,\n",
      "        1.38018388e-01])), (0.5182847213561953, array([ 0.07905293, -0.27400201,  0.13232805,  0.2239991 , -0.40526897,\n",
      "       -0.03474194,  0.04178357, -0.63114569, -0.32312277,  0.26908262,\n",
      "       -0.30264066,  0.13054014,  0.00081134])), (0.34650376641286657, array([-0.36817641, -0.01257758,  0.17757818, -0.44059211,  0.1166175 ,\n",
      "        0.35019213,  0.21871818,  0.19712942, -0.43305587, -0.06684118,\n",
      "       -0.45976229,  0.11082755,  0.00560817])), (0.3131368004720887, array([-0.39837702,  0.11045823,  0.38249686, -0.24337385, -0.25898236,\n",
      "       -0.34231286, -0.03612316, -0.17143688,  0.24437021, -0.15551492,\n",
      "        0.02119612, -0.23808956,  0.51727846])), (0.10754642369670996, array([-0.09448698,  0.02636524,  0.14274751, -0.13048578, -0.06760808,\n",
      "        0.45991766, -0.81458395, -0.09574809,  0.06724689,  0.08733362,\n",
      "        0.12906113,  0.18764627,  0.01211126])), (0.2135721466052733, array([ 0.37463888, -0.1374056 ,  0.46158303, -0.41895399,  0.01004706,\n",
      "       -0.22125424, -0.04175136, -0.08875695,  0.19992186, -0.22166887,\n",
      "       -0.09846946,  0.01912058, -0.54253207])), (0.15362835006711043, array([-0.12783451,  0.08064016,  0.01679249, -0.11084566,  0.07938796,\n",
      "       -0.49145931, -0.0503074 ,  0.17532803, -0.00367596,  0.35975654,\n",
      "        0.04046698,  0.74222954,  0.03873952])), (0.18086130479496634, array([ 0.26283426, -0.26676921, -0.11554255,  0.19948341,  0.02890188,\n",
      "       -0.06638686, -0.21334908,  0.18639128,  0.16808299, -0.46636903,\n",
      "       -0.53248388,  0.23783528,  0.36776336]))]\n"
     ]
    }
   ],
   "source": [
    "eigen_pairs = [(np.abs(eigen_vals[i]), eigen_vecs[:, i]) for i in range(len(eigen_vals))]\n",
    "print(eigen_pairs)"
   ]
  },
  {
   "cell_type": "code",
   "execution_count": 25,
   "metadata": {},
   "outputs": [
    {
     "name": "stdout",
     "output_type": "stream",
     "text": [
      "[(4.842745315655898, array([-0.13724218,  0.24724326, -0.02545159,  0.20694508, -0.15436582,\n",
      "       -0.39376952, -0.41735106,  0.30572896, -0.30668347,  0.07554066,\n",
      "       -0.32613263, -0.36861022, -0.29669651])), (2.4160245870352255, array([ 0.50303478,  0.16487119,  0.24456476, -0.11352904,  0.28974518,\n",
      "        0.05080104, -0.02287338,  0.09048885,  0.00835233,  0.54977581,\n",
      "       -0.20716433, -0.24902536,  0.38022942])), (1.5484582488203513, array([-0.13774873,  0.09615039,  0.67777567,  0.62504055,  0.19613548,\n",
      "        0.14031057,  0.11705386,  0.13121778,  0.0304309 , -0.07992997,\n",
      "        0.05305915,  0.13239103, -0.07065022])), (0.9612043774977367, array([-0.0032961 ,  0.56264669, -0.10897711,  0.0338187 , -0.36751107,\n",
      "        0.24024513,  0.1870533 , -0.02292622,  0.49626233,  0.10648294,\n",
      "       -0.36905375,  0.14201609, -0.16768217])), (0.8416616104578422, array([-0.29062523,  0.08953787, -0.16083499,  0.05158734,  0.67648707,\n",
      "       -0.11851114, -0.10710035, -0.50758161,  0.20163462,  0.00573607,\n",
      "       -0.27691422, -0.06662756, -0.12802904])), (0.6620634040383039, array([ 2.99096847e-01,  6.27036396e-01,  3.89128239e-04, -4.05836452e-02,\n",
      "        6.57772614e-02, -5.89776247e-02, -3.01103180e-02, -2.71728086e-01,\n",
      "       -4.39997519e-01, -4.11743459e-01,  1.41673377e-01,  1.75842384e-01,\n",
      "        1.38018388e-01])), (0.5182847213561953, array([ 0.07905293, -0.27400201,  0.13232805,  0.2239991 , -0.40526897,\n",
      "       -0.03474194,  0.04178357, -0.63114569, -0.32312277,  0.26908262,\n",
      "       -0.30264066,  0.13054014,  0.00081134])), (0.34650376641286657, array([-0.36817641, -0.01257758,  0.17757818, -0.44059211,  0.1166175 ,\n",
      "        0.35019213,  0.21871818,  0.19712942, -0.43305587, -0.06684118,\n",
      "       -0.45976229,  0.11082755,  0.00560817])), (0.3131368004720887, array([-0.39837702,  0.11045823,  0.38249686, -0.24337385, -0.25898236,\n",
      "       -0.34231286, -0.03612316, -0.17143688,  0.24437021, -0.15551492,\n",
      "        0.02119612, -0.23808956,  0.51727846])), (0.2135721466052733, array([ 0.37463888, -0.1374056 ,  0.46158303, -0.41895399,  0.01004706,\n",
      "       -0.22125424, -0.04175136, -0.08875695,  0.19992186, -0.22166887,\n",
      "       -0.09846946,  0.01912058, -0.54253207])), (0.18086130479496634, array([ 0.26283426, -0.26676921, -0.11554255,  0.19948341,  0.02890188,\n",
      "       -0.06638686, -0.21334908,  0.18639128,  0.16808299, -0.46636903,\n",
      "       -0.53248388,  0.23783528,  0.36776336])), (0.15362835006711043, array([-0.12783451,  0.08064016,  0.01679249, -0.11084566,  0.07938796,\n",
      "       -0.49145931, -0.0503074 ,  0.17532803, -0.00367596,  0.35975654,\n",
      "        0.04046698,  0.74222954,  0.03873952])), (0.10754642369670996, array([-0.09448698,  0.02636524,  0.14274751, -0.13048578, -0.06760808,\n",
      "        0.45991766, -0.81458395, -0.09574809,  0.06724689,  0.08733362,\n",
      "        0.12906113,  0.18764627,  0.01211126]))]\n"
     ]
    }
   ],
   "source": [
    "eigen_pairs.sort(key=lambda k: k[0], reverse=True)\n",
    "print(eigen_pairs)"
   ]
  },
  {
   "cell_type": "code",
   "execution_count": 26,
   "metadata": {},
   "outputs": [],
   "source": [
    "#sort form high to low"
   ]
  },
  {
   "cell_type": "code",
   "execution_count": 27,
   "metadata": {},
   "outputs": [],
   "source": [
    "w = np.hstack((eigen_pairs[0][1][:, np.newaxis], eigen_pairs[1][1][:, np.newaxis]))"
   ]
  },
  {
   "cell_type": "code",
   "execution_count": 28,
   "metadata": {},
   "outputs": [
    {
     "name": "stdout",
     "output_type": "stream",
     "text": [
      "Matrix W:\n",
      " [[-0.13724218  0.50303478]\n",
      " [ 0.24724326  0.16487119]\n",
      " [-0.02545159  0.24456476]\n",
      " [ 0.20694508 -0.11352904]\n",
      " [-0.15436582  0.28974518]\n",
      " [-0.39376952  0.05080104]\n",
      " [-0.41735106 -0.02287338]\n",
      " [ 0.30572896  0.09048885]\n",
      " [-0.30668347  0.00835233]\n",
      " [ 0.07554066  0.54977581]\n",
      " [-0.32613263 -0.20716433]\n",
      " [-0.36861022 -0.24902536]\n",
      " [-0.29669651  0.38022942]]\n"
     ]
    }
   ],
   "source": [
    "print('Matrix W:\\n', w)"
   ]
  },
  {
   "cell_type": "code",
   "execution_count": 29,
   "metadata": {},
   "outputs": [],
   "source": [
    "#we collect the two eigenvectors that correspond to the two largest eigenvalues, to capture about 60% of the variance in this dataset.\n",
    "#ideally we choose number of PC according to tradeoff (which is an experimental process)"
   ]
  },
  {
   "cell_type": "code",
   "execution_count": 30,
   "metadata": {},
   "outputs": [],
   "source": [
    "#we have created a 13 x 2-dimensional projection matrix W from the top two eigenvectors.\n",
    "#Using the projection matrix, we can now transform a sample x (represented as a 1 x 13-dimensional row vector) onto the PCA subspace"
   ]
  },
  {
   "cell_type": "code",
   "execution_count": 31,
   "metadata": {},
   "outputs": [
    {
     "data": {
      "text/plain": [
       "array([2.38299011, 0.45458499])"
      ]
     },
     "execution_count": 31,
     "metadata": {},
     "output_type": "execute_result"
    }
   ],
   "source": [
    "X_train_std[0].dot(w)"
   ]
  },
  {
   "cell_type": "code",
   "execution_count": 32,
   "metadata": {},
   "outputs": [
    {
     "name": "stdout",
     "output_type": "stream",
     "text": [
      "[[ 2.38299011  0.45458499]\n",
      " [-1.96578183  1.65376939]\n",
      " [-2.53907598  1.02909066]\n",
      " [-1.43010776  0.6024011 ]\n",
      " [ 3.14147227  0.66214979]\n",
      " [ 0.50253552 -2.08907131]\n",
      " [ 0.04867722 -2.27536044]\n",
      " [ 2.47888989 -0.08603318]\n",
      " [ 2.01900259 -1.3538719 ]\n",
      " [ 0.75156583 -2.55367947]\n",
      " [ 0.72268915 -1.18404391]\n",
      " [-3.00366211  0.94626934]\n",
      " [ 2.57518878 -1.0697549 ]\n",
      " [ 3.73151104  1.01968876]\n",
      " [-1.12276518  0.13877   ]\n",
      " [ 2.85996853  2.28819559]\n",
      " [-0.74717125 -3.21746061]\n",
      " [-1.58427878  0.16048055]\n",
      " [ 3.38887101  2.11550689]\n",
      " [ 3.15405473  0.54233966]\n",
      " [-1.28036506 -1.72926871]\n",
      " [-1.71438911  0.71745249]\n",
      " [-1.55040291 -1.7580591 ]\n",
      " [ 1.10984489 -1.20480693]\n",
      " [-0.69108418 -1.71385374]\n",
      " [-2.086036   -1.68453671]\n",
      " [ 2.90393456  1.95258805]\n",
      " [-2.07635784  1.47183304]\n",
      " [-1.74756185 -1.25842546]\n",
      " [ 2.59424456 -0.1056037 ]\n",
      " [-2.50372355  0.70412212]\n",
      " [-2.19448402  2.18657552]\n",
      " [ 3.91634534  0.16136475]\n",
      " [-1.11739618  0.51921086]\n",
      " [-0.89996804 -2.04759575]\n",
      " [-1.71469178  0.61392169]\n",
      " [-2.48581303  0.76839561]\n",
      " [-0.76080562 -1.67615627]\n",
      " [ 2.9265371   0.18854741]\n",
      " [ 2.94423716  1.34812388]\n",
      " [-2.38993219  1.0848074 ]\n",
      " [ 2.63885049  0.75274937]\n",
      " [ 2.51009031  2.25237953]\n",
      " [ 3.65248086  1.74839925]\n",
      " [-2.65169609  1.01997476]\n",
      " [ 0.52544559 -2.13528249]\n",
      " [ 2.70197573  0.56476307]\n",
      " [ 3.18414708  2.58094695]\n",
      " [ 1.12517041 -1.85054449]\n",
      " [ 2.92366519  0.41699915]\n",
      " [-1.96122314 -1.28613661]\n",
      " [ 0.54473673 -1.07897226]\n",
      " [-0.77030308 -1.93386815]\n",
      " [-1.16670455  0.00489815]\n",
      " [-1.36475309 -2.13572269]\n",
      " [ 0.43563732 -2.56929607]\n",
      " [ 2.96191745  1.91091009]\n",
      " [ 2.83609557  0.65386032]\n",
      " [ 1.90402089 -0.35296542]\n",
      " [-2.4858391  -0.21308835]\n",
      " [-2.16575568  1.1468486 ]\n",
      " [ 0.00669776 -0.94337624]\n",
      " [ 1.06560181  3.31221025]\n",
      " [ 2.13117911  1.90551304]\n",
      " [ 1.53543483 -1.50854979]\n",
      " [-2.66783112  1.75933599]\n",
      " [ 0.57279998 -2.7511383 ]\n",
      " [-0.70710916 -2.43798549]\n",
      " [-0.99606577 -1.4772411 ]\n",
      " [-2.67324153  1.35779609]\n",
      " [-2.36367378  1.66537927]\n",
      " [-0.39171875  0.13747499]\n",
      " [-2.98908845  2.16983165]\n",
      " [-1.91822539  1.60141809]\n",
      " [ 2.3114458   0.207123  ]\n",
      " [-1.06050503  0.6004608 ]\n",
      " [-2.74858609 -0.29016054]\n",
      " [ 2.26650077  2.14491758]\n",
      " [-1.15517469 -0.50262909]\n",
      " [ 0.16602503 -2.26850051]\n",
      " [ 1.35589389  0.33353007]\n",
      " [-3.31185057  1.39240115]\n",
      " [-0.33245686 -2.15639865]\n",
      " [-2.23205085  0.52868143]\n",
      " [ 0.18583758 -1.44446967]\n",
      " [ 0.84560856  0.17151684]\n",
      " [ 2.69500472  2.74522492]\n",
      " [ 0.44645674 -0.62393943]\n",
      " [-1.88961007 -0.04400723]\n",
      " [-3.08131761  1.59724429]\n",
      " [-3.45716348  1.21428442]\n",
      " [ 3.87665629  0.46446004]\n",
      " [ 1.575516   -1.82299839]\n",
      " [-3.43344371  1.6116814 ]\n",
      " [-4.20642597  2.20145366]\n",
      " [-0.14042971 -2.36871639]\n",
      " [ 1.82731521 -1.39485103]\n",
      " [ 2.20564744  1.28462066]\n",
      " [ 1.64999054  2.33211134]\n",
      " [-1.4611033  -0.46480324]\n",
      " [-0.60047516  0.00920072]\n",
      " [-3.08276231  0.28287148]\n",
      " [ 0.45035749 -2.20263755]\n",
      " [ 0.90806897 -2.0881686 ]\n",
      " [ 3.24973637 -0.18273485]\n",
      " [-3.07882055  0.69622621]\n",
      " [ 2.54277306  1.88571652]\n",
      " [-2.84838157  0.63274325]\n",
      " [-0.88997271 -0.67927226]\n",
      " [ 0.32368249 -2.07006175]\n",
      " [ 0.32007527 -2.88708519]\n",
      " [ 0.44889188 -2.14872532]\n",
      " [-2.46582558  1.0745577 ]\n",
      " [ 2.81678113  0.56344444]\n",
      " [-2.16983025  0.16644199]\n",
      " [-2.66728229  1.38137702]\n",
      " [-3.53223924  2.57906029]\n",
      " [-1.96637688  1.18319185]\n",
      " [ 1.68741216 -1.35075321]\n",
      " [ 0.43521077 -2.40355817]\n",
      " [ 2.59045115  1.63852921]\n",
      " [ 4.35308397  0.66536041]\n",
      " [-1.84315373 -1.50688415]\n",
      " [-0.40860955 -1.29720607]]\n"
     ]
    }
   ],
   "source": [
    "X_train_pca = X_train_std.dot(w)\n",
    "print(X_train_pca)"
   ]
  },
  {
   "cell_type": "code",
   "execution_count": 33,
   "metadata": {},
   "outputs": [],
   "source": [
    "#let’s visualize the transformed Wine training set"
   ]
  },
  {
   "cell_type": "code",
   "execution_count": 34,
   "metadata": {},
   "outputs": [],
   "source": [
    "colors = ['r', 'b', 'g']\n",
    "markers = ['s', 'x', 'o']"
   ]
  },
  {
   "cell_type": "code",
   "execution_count": 35,
   "metadata": {
    "scrolled": true
   },
   "outputs": [
    {
     "data": {
      "text/plain": [
       "Text(0, 0.5, 'PC 2')"
      ]
     },
     "execution_count": 35,
     "metadata": {},
     "output_type": "execute_result"
    },
    {
     "data": {
      "image/png": "[encoded data removed]",
      "text/plain": [
       "<Figure size 432x288 with 1 Axes>"
      ]
     },
     "metadata": {
      "needs_background": "light"
     },
     "output_type": "display_data"
    }
   ],
   "source": [
    "for l, c, m in zip(np.unique(y_train), colors, markers):\n",
    "    plt.scatter(X_train_pca[y_train == l, 0], X_train_pca[y_train == l, 1], c = c, label = l, marker = m)\n",
    "    \n",
    "plt.xlabel('PC1')\n",
    "plt.ylabel('PC 2')"
   ]
  },
  {
   "cell_type": "code",
   "execution_count": 36,
   "metadata": {},
   "outputs": [],
   "source": [
    "#we can see in the resulting plot, the data is more spread along the x-axis — the first principal component — than the second principal component (y-axis)"
   ]
  },
  {
   "cell_type": "code",
   "execution_count": null,
   "metadata": {},
   "outputs": [],
   "source": []
  }
 ],
 "metadata": {
  "kernelspec": {
   "display_name": "Python 3",
   "language": "python",
   "name": "python3"
  },
  "language_info": {
   "codemirror_mode": {
    "name": "ipython",
    "version": 3
   },
   "file_extension": ".py",
   "mimetype": "text/x-python",
   "name": "python",
   "nbconvert_exporter": "python",
   "pygments_lexer": "ipython3",
   "version": "3.7.3"
  }
 },
 "nbformat": 4,
 "nbformat_minor": 2
}
